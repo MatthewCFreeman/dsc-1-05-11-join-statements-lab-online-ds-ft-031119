{
 "cells": [
  {
   "cell_type": "markdown",
   "metadata": {},
   "source": [
    "# Join Statements - Lab\n",
    "\n",
    "## Introduction\n",
    "\n",
    "In this lab, you'll practice your knowledge on Join statements.\n",
    "\n",
    "## Objectives\n",
    "\n",
    "You will be able to:\n",
    "- Write queries that make use of various types of Joins\n",
    "- Join tables using foreign keys"
   ]
  },
  {
   "cell_type": "markdown",
   "metadata": {},
   "source": [
    "## CRM Schema\n",
    "\n",
    "In almost all cases, rather then just working with a single table we will typically need data from multiple tables. \n",
    "Doing this requires the use of **joins ** using shared columns from the two tables. \n",
    "\n",
    "In this lab, we'll use the same Customer Relationship Management (CRM) database we used in our lecture before!\n",
    "<img src='Database-Schema.png' width=550>"
   ]
  },
  {
   "cell_type": "markdown",
   "metadata": {},
   "source": [
    "## Connecting to the Database\n",
    "Import the necessary packages and connect to the database **data.sqlite**."
   ]
  },
  {
   "cell_type": "code",
   "execution_count": 2,
   "metadata": {},
   "outputs": [],
   "source": [
    "import sqlite3\n",
    "import pandas as pd\n",
    "connection = sqlite3.connect('data.sqlite')\n",
    "cursor = connection.cursor()"
   ]
  },
  {
   "cell_type": "markdown",
   "metadata": {},
   "source": [
    "## Display the names of all the employees in Boston."
   ]
  },
  {
   "cell_type": "code",
   "execution_count": 7,
   "metadata": {},
   "outputs": [
    {
     "data": {
      "text/plain": [
       "[('Diane', 'Murphy'),\n",
       " ('Mary', 'Patterson'),\n",
       " ('Jeff', 'Firrelli'),\n",
       " ('William', 'Patterson'),\n",
       " ('Gerard', 'Bondur'),\n",
       " ('Anthony', 'Bow'),\n",
       " ('Leslie', 'Jennings'),\n",
       " ('Leslie', 'Thompson'),\n",
       " ('Julie', 'Firrelli'),\n",
       " ('Steve', 'Patterson'),\n",
       " ('Foon Yue', 'Tseng'),\n",
       " ('George', 'Vanauf'),\n",
       " ('Loui', 'Bondur'),\n",
       " ('Gerard', 'Hernandez'),\n",
       " ('Pamela', 'Castillo'),\n",
       " ('Larry', 'Bott'),\n",
       " ('Barry', 'Jones'),\n",
       " ('Andy', 'Fixter'),\n",
       " ('Peter', 'Marsh'),\n",
       " ('Tom', 'King'),\n",
       " ('Mami', 'Nishi'),\n",
       " ('Yoshimi', 'Kato'),\n",
       " ('Martin', 'Gerard')]"
      ]
     },
     "execution_count": 7,
     "metadata": {},
     "output_type": "execute_result"
    }
   ],
   "source": [
    "cursor.execute(\"\"\"SELECT firstName, lastName FROM employees JOIN offices USING(officeCode);\"\"\").fetchall()"
   ]
  },
  {
   "cell_type": "markdown",
   "metadata": {},
   "source": [
    "## Do any offices have no employees?"
   ]
  },
  {
   "cell_type": "code",
   "execution_count": 28,
   "metadata": {},
   "outputs": [
    {
     "data": {
      "text/plain": [
       "[('2', 'Boston', 2),\n",
       " ('7', 'London', 2),\n",
       " ('3', 'NYC', 2),\n",
       " ('4', 'Paris', 5),\n",
       " ('1', 'San Francisco', 6),\n",
       " ('6', 'Sydney', 4),\n",
       " ('5', 'Tokyo', 2)]"
      ]
     },
     "execution_count": 28,
     "metadata": {},
     "output_type": "execute_result"
    }
   ],
   "source": [
    "cursor.execute(\"\"\"SELECT officeCode, city, COUNT(employeeNumber) FROM offices LEFT JOIN employees USING(officeCode) GROUP BY city;\"\"\").fetchall()"
   ]
  },
  {
   "cell_type": "markdown",
   "metadata": {},
   "source": [
    "## Write 3 Questions of your own and answer them"
   ]
  },
  {
   "cell_type": "code",
   "execution_count": null,
   "metadata": {},
   "outputs": [],
   "source": [
    "# Answers will vary"
   ]
  },
  {
   "cell_type": "code",
   "execution_count": null,
   "metadata": {},
   "outputs": [],
   "source": [
    "# Your code here"
   ]
  },
  {
   "cell_type": "code",
   "execution_count": null,
   "metadata": {},
   "outputs": [],
   "source": [
    "# Your code here"
   ]
  },
  {
   "cell_type": "code",
   "execution_count": null,
   "metadata": {},
   "outputs": [],
   "source": [
    "# Your code here"
   ]
  },
  {
   "cell_type": "markdown",
   "metadata": {},
   "source": [
    "## Level Up: Display the names of each product each employee has sold."
   ]
  },
  {
   "cell_type": "code",
   "execution_count": 32,
   "metadata": {},
   "outputs": [
    {
     "name": "stdout",
     "output_type": "stream",
     "text": [
      "           0         1                                            2\n",
      "0     Leslie  Jennings                               1958 Setra Bus\n",
      "1     Leslie  Jennings                       1940 Ford Pickup Truck\n",
      "2     Leslie  Jennings                      1939 Cadillac Limousine\n",
      "3     Leslie  Jennings  1996 Peterbilt 379 Stake Bed with Outrigger\n",
      "4     Leslie  Jennings                            1968 Ford Mustang\n",
      "5     Leslie  Jennings                           1968 Dodge Charger\n",
      "6     Leslie  Jennings                      1970 Plymouth Hemi Cuda\n",
      "7     Leslie  Jennings                           1969 Dodge Charger\n",
      "8     Leslie  Jennings                  1948 Porsche 356-A Roadster\n",
      "9     Leslie  Jennings                         1969 Dodge Super Bee\n",
      "10    Leslie  Jennings                        1976 Ford Gran Torino\n",
      "11    Leslie  Jennings                             1957 Vespa GS150\n",
      "12    Leslie  Jennings                    1957 Corvette Convertible\n",
      "13    Leslie  Jennings                      1982 Ducati 900 Monster\n",
      "14    Leslie  Jennings                      1982 Lamborghini Diablo\n",
      "15    Leslie  Jennings                    1971 Alpine Renault 1600s\n",
      "16    Leslie  Jennings                      1956 Porsche 356A Coupe\n",
      "17    Leslie  Jennings                        1961 Chevrolet Impala\n",
      "18    Leslie  Jennings                            1982 Ducati 996 R\n",
      "19    Leslie  Jennings                    1974 Ducati 350 Mk3 Desmo\n",
      "20    Leslie  Jennings                           2002 Yamaha YZR M1\n",
      "21    Leslie  Jennings                            2001 Ferrari Enzo\n",
      "22    Leslie  Jennings                           1969 Corvair Monza\n",
      "23    Leslie  Jennings                             1969 Ford Falcon\n",
      "24    Leslie  Jennings                            1903 Ford Model A\n",
      "25    Leslie  Jennings                     Collectable Wooden Train\n",
      "26    Leslie  Jennings                        1970 Triumph Spitfire\n",
      "27    Leslie  Jennings                          1904 Buick Runabout\n",
      "28    Leslie  Jennings                        18th century schooner\n",
      "29    Leslie  Jennings             1912 Ford Model T Delivery Wagon\n",
      "...      ...       ...                                          ...\n",
      "2966  Martin    Gerard                     1917 Grand Touring Sedan\n",
      "2967  Martin    Gerard                           1911 Ford Town Car\n",
      "2968  Martin    Gerard                    1932 Model A Ford J-Coupe\n",
      "2969  Martin    Gerard                       1928 Mercedes-Benz SSK\n",
      "2970  Martin    Gerard                  1939 Chevrolet Deluxe Coupe\n",
      "2971  Martin    Gerard    1938 Cadillac V-16 Presidential Limousine\n",
      "2972  Martin    Gerard             1936 Mercedes Benz 500k Roadster\n",
      "2973  Martin    Gerard                            2001 Ferrari Enzo\n",
      "2974  Martin    Gerard                           1969 Corvair Monza\n",
      "2975  Martin    Gerard                      1939 Cadillac Limousine\n",
      "2976  Martin    Gerard                     1962 Volkswagen Microbus\n",
      "2977  Martin    Gerard                        1936 Chrysler Airflow\n",
      "2978  Martin    Gerard                  1980’s GM Manhattan Express\n",
      "2979  Martin    Gerard  1996 Peterbilt 379 Stake Bed with Outrigger\n",
      "2980  Martin    Gerard                              1982 Camaro Z28\n",
      "2981  Martin    Gerard                            1957 Chevy Pickup\n",
      "2982  Martin    Gerard               1998 Chrysler Plymouth Prowler\n",
      "2983  Martin    Gerard                       1964 Mercedes Tour Bus\n",
      "2984  Martin    Gerard                        1926 Ford Fire Engine\n",
      "2985  Martin    Gerard                  1992 Ferrari 360 Spider red\n",
      "2986  Martin    Gerard                           1970 Dodge Coronet\n",
      "2987  Martin    Gerard                     1962 Volkswagen Microbus\n",
      "2988  Martin    Gerard          1958 Chevy Corvette Limited Edition\n",
      "2989  Martin    Gerard            1992 Porsche Cayenne Turbo Silver\n",
      "2990  Martin    Gerard                  1980’s GM Manhattan Express\n",
      "2991  Martin    Gerard                  1954 Greyhound Scenicruiser\n",
      "2992  Martin    Gerard       1950's Chicago Surface Lines Streetcar\n",
      "2993  Martin    Gerard             Diamond T620 Semi-Skirted Tanker\n",
      "2994  Martin    Gerard                           1911 Ford Town Car\n",
      "2995  Martin    Gerard             1936 Mercedes Benz 500k Roadster\n",
      "\n",
      "[2996 rows x 3 columns]\n"
     ]
    }
   ],
   "source": [
    "df = pd.DataFrame(cursor.execute(\"\"\"SELECT firstName, lastName, productName FROM employees \n",
    "JOIN customers ON employees.employeenumber = customers.salesRepEmployeeNumber\n",
    "JOIN orders ON customers.customerNumber = orders.customerNumber\n",
    "JOIN orderdetails ON orders.orderNumber = orderdetails.orderNumber\n",
    "JOIN products ON orderdetails.productCode = products.productCode\n",
    ";\"\"\").fetchall())\n",
    "print(df)"
   ]
  },
  {
   "cell_type": "markdown",
   "metadata": {},
   "source": [
    "## Level Up: Display the Number of Products each Employee Has sold"
   ]
  },
  {
   "cell_type": "code",
   "execution_count": 37,
   "metadata": {},
   "outputs": [
    {
     "name": "stdout",
     "output_type": "stream",
     "text": [
      "                      2\n",
      "0        1             \n",
      "Andy     Fixter     185\n",
      "Barry    Jones      220\n",
      "Foon Yue Tseng      142\n",
      "George   Vanauf     211\n",
      "Gerard   Hernandez  396\n",
      "Julie    Firrelli   124\n",
      "Larry    Bott       236\n",
      "Leslie   Jennings   331\n",
      "         Thompson   114\n",
      "Loui     Bondur     177\n",
      "Mami     Nishi      137\n",
      "Martin   Gerard     114\n",
      "Pamela   Castillo   272\n",
      "Peter    Marsh      185\n",
      "Steve    Patterson  152\n"
     ]
    }
   ],
   "source": [
    "print(df.groupby([0,1]).count())"
   ]
  },
  {
   "cell_type": "markdown",
   "metadata": {},
   "source": [
    "## Summary"
   ]
  },
  {
   "cell_type": "markdown",
   "metadata": {},
   "source": [
    "Congrats! You now know how to use Join statements, along with leveraging your foreign keys knowledge!"
   ]
  }
 ],
 "metadata": {
  "kernelspec": {
   "display_name": "learn-env",
   "language": "python",
   "name": "learn-env"
  },
  "language_info": {
   "codemirror_mode": {
    "name": "ipython",
    "version": 3
   },
   "file_extension": ".py",
   "mimetype": "text/x-python",
   "name": "python",
   "nbconvert_exporter": "python",
   "pygments_lexer": "ipython3",
   "version": "3.6.6"
  }
 },
 "nbformat": 4,
 "nbformat_minor": 2
}
